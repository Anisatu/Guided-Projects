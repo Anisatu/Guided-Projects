{
 "cells": [
  {
   "cell_type": "code",
   "execution_count": null,
   "metadata": {},
   "outputs": [],
   "source": [
    "# Read the CSV file into a string, and split on the newline character\n",
    "\n",
    "f= open(\"US_births_1994-2003_CDC_NCHS.csv\", 'r')\n",
    "data = f.read().split(\"\\n\")\n",
    "\n",
    "\n",
    "#Check that it's worked\n",
    "data[:10]"
   ]
  },
  {
   "cell_type": "code",
   "execution_count": null,
   "metadata": {},
   "outputs": [],
   "source": [
    "# Convert dataset into a list of lists\n",
    "\n",
    "\n",
    "def read_csv(filename):\n",
    "    \n",
    "    f= open(filename, 'r')\n",
    "    data = f.read().split(\"\\n\")\n",
    "    string_list = data[1:]\n",
    "    \n",
    "    final_list=[]\n",
    "    \n",
    "    for string in string_list:\n",
    "        int_fields= []\n",
    "        string_fields= string.split(\",\")\n",
    "        for substring in string_fields:\n",
    "            int_fields.append(int(substring))\n",
    "            \n",
    "        final_list.append(int_fields)\n",
    "                          \n",
    "    return(final_list)\n",
    "        \n",
    "    \n",
    "#Use function to create list of lists from the dataset    \n",
    "cdc_list=read_csv(\"US_births_1994-2003_CDC_NCHS.csv\")\n",
    "\n",
    "#Confirm that it's worked\n",
    "cdc_list[:10]\n",
    "                        \n",
    "    \n",
    "    \n",
    "    \n",
    "    "
   ]
  },
  {
   "cell_type": "code",
   "execution_count": null,
   "metadata": {},
   "outputs": [],
   "source": [
    "#Create a function that takes a list of lists as an argument\n",
    "#And returns the number of births a month\n",
    "\n",
    "def month_births(listoflists):\n",
    "    \n",
    "    births_per_month={}\n",
    "    for sublist in listoflists:\n",
    "        month= sublist[1]\n",
    "        births= sublist[4]\n",
    "        \n",
    "        if month in births_per_month:\n",
    "            births_per_month[month] =births_per_month[month]+ births\n",
    "        else:\n",
    "            births_per_month[month] = births\n",
    "    \n",
    "    return(births_per_month)\n",
    "            \n",
    "        \n",
    "    \n",
    "    "
   ]
  },
  {
   "cell_type": "code",
   "execution_count": null,
   "metadata": {},
   "outputs": [],
   "source": [
    "#Use function on dataset\n",
    "\n",
    "cdc_month_births = month_births(cdc_list)\n",
    "\n",
    "cdc_month_births"
   ]
  },
  {
   "cell_type": "code",
   "execution_count": null,
   "metadata": {},
   "outputs": [],
   "source": [
    "#Create a function that takes a list of lists as an argument\n",
    "#And returns the number of births per day of the week\n",
    "\n",
    "def dow_births(listoflists):\n",
    "    \n",
    "    births_per_DOW={}\n",
    "    for sublist in listoflists:\n",
    "        DOW= sublist[3]\n",
    "        births= sublist[4]\n",
    "        \n",
    "        if DOW in births_per_DOW:\n",
    "            births_per_DOW[DOW] =births_per_DOW[DOW]+ births\n",
    "        else:\n",
    "            births_per_DOW[DOW] = births\n",
    "    \n",
    "    return(births_per_DOW)\n",
    "            "
   ]
  },
  {
   "cell_type": "code",
   "execution_count": null,
   "metadata": {},
   "outputs": [],
   "source": [
    "#Test function\n",
    "\n",
    "cdc_day_births = dow_births(cdc_list)\n",
    "\n",
    "cdc_day_births"
   ]
  },
  {
   "cell_type": "code",
   "execution_count": null,
   "metadata": {},
   "outputs": [],
   "source": [
    "#Create a function the counts the number of births based on a specific column\n",
    "\n",
    "def calc_counts(data,column):\n",
    "    births_per_period={}\n",
    "    for sublist in data:\n",
    "        period= sublist[column]\n",
    "        births= sublist[4]\n",
    "        \n",
    "        if period in births_per_period:\n",
    "            births_per_period[period] =births_per_period[period]+ births\n",
    "        else:\n",
    "            births_per_period[period] = births\n",
    "    \n",
    "    return(births_per_period)\n",
    "            \n",
    "    \n",
    "    "
   ]
  },
  {
   "cell_type": "code",
   "execution_count": null,
   "metadata": {},
   "outputs": [],
   "source": [
    "#Call function\n",
    "cdc_year_births= calc_counts(cdc_list, 0) \n",
    "cdc_month_births= calc_counts(cdc_list,1)\n",
    "cdc_dom_births= calc_counts(cdc_list,2)\n",
    "cdc_dow_births= calc_counts(cdc_list,3)"
   ]
  },
  {
   "cell_type": "code",
   "execution_count": null,
   "metadata": {},
   "outputs": [],
   "source": [
    "#Check that it works\n",
    "cdc_year_births\n"
   ]
  },
  {
   "cell_type": "code",
   "execution_count": null,
   "metadata": {},
   "outputs": [],
   "source": [
    "cdc_month_births"
   ]
  },
  {
   "cell_type": "code",
   "execution_count": null,
   "metadata": {},
   "outputs": [],
   "source": [
    "cdc_dom_births"
   ]
  },
  {
   "cell_type": "code",
   "execution_count": null,
   "metadata": {},
   "outputs": [],
   "source": [
    "cdc_dow_births"
   ]
  }
 ],
 "metadata": {
  "anaconda-cloud": {},
  "kernelspec": {
   "display_name": "Python 3",
   "language": "python",
   "name": "python3"
  },
  "language_info": {
   "codemirror_mode": {
    "name": "ipython",
    "version": 3
   },
   "file_extension": ".py",
   "mimetype": "text/x-python",
   "name": "python",
   "nbconvert_exporter": "python",
   "pygments_lexer": "ipython3",
   "version": "3.6.5"
  }
 },
 "nbformat": 4,
 "nbformat_minor": 1
}

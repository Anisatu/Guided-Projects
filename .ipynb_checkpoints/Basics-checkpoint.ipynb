{
 "cells": [
  {
   "cell_type": "markdown",
   "metadata": {},
   "source": [
    "# Dataquest Project Description\n",
    "\n",
    "## Birth Dates In The United States\n",
    "\n",
    "The raw data behind the story **Some People Are Too Superstitious To Have A Baby On Friday The 13th**, which you can read [here](https://fivethirtyeight.com/features/some-people-are-too-superstitious-to-have-a-baby-on-friday-the-13th/).\n",
    "\n",
    "We'll be working with the data set from the Centers for Disease Control and Prevention's National National Center for Health Statistics. The data set has the following structure:\n",
    "\n",
    "- `year` - Year\n",
    "- `month` - Month\n",
    "- `date_of_month` - Day number of the month\n",
    "- `day_of_week` - Day of week, where 1 is Monday and 7 is Sunday\n",
    "- `births` - Number of births"
   ]
  },
  {
   "cell_type": "code",
   "execution_count": null,
   "metadata": {},
   "outputs": [],
   "source": [
    "# Open the CSV file in read mode, and assign to the 'text' variable\n",
    "f= open(\"births.csv\", 'r')\n",
    "text = f.read()\n",
    "\n",
    "# Display the raw content\n",
    "text"
   ]
  },
  {
   "cell_type": "code",
   "execution_count": null,
   "metadata": {},
   "outputs": [],
   "source": [
    "# Split the file's content on the new-line character, and display the resulting list\n",
    "lines = text.split(\"\\n\")\n",
    "print(lines)\n",
    "\n",
    "        "
   ]
  },
  {
   "cell_type": "code",
   "execution_count": null,
   "metadata": {},
   "outputs": [],
   "source": [
    "# Display the same list without using the print function\n",
    "\n",
    "lines"
   ]
  },
  {
   "cell_type": "code",
   "execution_count": null,
   "metadata": {},
   "outputs": [],
   "source": [
    "# Write a for loop that iterates through the list of strings\n",
    "# Splits each string on the comma delimiter\n",
    "# And displays each resulting line using print()\n",
    "\n",
    "for string in lines:\n",
    "    number=string.split(\",\")\n",
    "    print(number)"
   ]
  },
  {
   "cell_type": "code",
   "execution_count": null,
   "metadata": {},
   "outputs": [],
   "source": [
    "# Create a loop that returns a dictionary containing the total number of births for each unique day of the week\n",
    "\n",
    "days_counts={}\n",
    "birth_data= lines[1:len(lines)]\n",
    "   \n",
    "for row in birth_data:\n",
    "    split_row= row.split(\",\")\n",
    "    day_of_week=split_row[3]\n",
    "    births=int(split_row[4])\n",
    "    \n",
    "    if day_of_week in days_counts:\n",
    "        days_counts[day_of_week]=days_counts[day_of_week]+births\n",
    "    else:\n",
    "        days_counts[day_of_week]=births\n",
    "            \n",
    "            \n",
    "days_counts\n",
    "                \n",
    "                         \n",
    "   \n",
    "    "
   ]
  },
  {
   "cell_type": "code",
   "execution_count": null,
   "metadata": {},
   "outputs": [],
   "source": []
  }
 ],
 "metadata": {
  "anaconda-cloud": {},
  "kernelspec": {
   "display_name": "Python 3",
   "language": "python",
   "name": "python3"
  },
  "language_info": {
   "codemirror_mode": {
    "name": "ipython",
    "version": 3
   },
   "file_extension": ".py",
   "mimetype": "text/x-python",
   "name": "python",
   "nbconvert_exporter": "python",
   "pygments_lexer": "ipython3",
   "version": "3.6.5"
  }
 },
 "nbformat": 4,
 "nbformat_minor": 1
}
